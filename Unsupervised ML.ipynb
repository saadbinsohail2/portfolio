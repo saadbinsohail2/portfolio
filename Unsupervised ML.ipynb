{
 "cells": [
  {
   "cell_type": "markdown",
   "id": "40d19b38",
   "metadata": {},
   "source": [
    "# Clustering Churn Values  in Telecom Industry"
   ]
  },
  {
   "cell_type": "markdown",
   "id": "d579b8d6",
   "metadata": {},
   "source": [
    "## Objective\n",
    "In this report, various methods are applied to check which is most suited to cluster the churn vs not churned in dataset of a telecommunication industry."
   ]
  },
  {
   "cell_type": "code",
   "execution_count": 1,
   "id": "c03fb217",
   "metadata": {},
   "outputs": [
    {
     "name": "stdout",
     "output_type": "stream",
     "text": [
      "Requirement already satisfied: scikit-learn in c:\\users\\ahc\\anaconda3\\lib\\site-packages (1.2.0)\n",
      "Requirement already satisfied: scipy>=1.3.2 in c:\\users\\ahc\\anaconda3\\lib\\site-packages (from scikit-learn) (1.9.1)\n",
      "Requirement already satisfied: joblib>=1.1.1 in c:\\users\\ahc\\anaconda3\\lib\\site-packages (from scikit-learn) (1.2.0)\n",
      "Requirement already satisfied: numpy>=1.17.3 in c:\\users\\ahc\\anaconda3\\lib\\site-packages (from scikit-learn) (1.21.5)\n",
      "Requirement already satisfied: threadpoolctl>=2.0.0 in c:\\users\\ahc\\anaconda3\\lib\\site-packages (from scikit-learn) (2.2.0)\n"
     ]
    }
   ],
   "source": [
    "!pip install -U scikit-learn"
   ]
  },
  {
   "cell_type": "code",
   "execution_count": 6,
   "id": "a5510a9f",
   "metadata": {},
   "outputs": [],
   "source": [
    "# Installing Packages\n",
    "\n",
    "import sklearn\n",
    "import pandas as pd\n",
    "import numpy as np\n",
    "from sklearn.model_selection import train_test_split\n",
    "from sklearn.cluster import KMeans,AgglomerativeClustering,DBSCAN,MeanShift\n",
    "from scipy.spatial.distance import euclidean\n",
    "from sklearn.metrics import accuracy_score\n",
    "from sklearn.decomposition import PCA,KernelPCA\n",
    "from sklearn.preprocessing import LabelEncoder,MinMaxScaler"
   ]
  },
  {
   "cell_type": "code",
   "execution_count": 7,
   "id": "0d73ac06",
   "metadata": {},
   "outputs": [
    {
     "data": {
      "text/html": [
       "<div>\n",
       "<style scoped>\n",
       "    .dataframe tbody tr th:only-of-type {\n",
       "        vertical-align: middle;\n",
       "    }\n",
       "\n",
       "    .dataframe tbody tr th {\n",
       "        vertical-align: top;\n",
       "    }\n",
       "\n",
       "    .dataframe thead th {\n",
       "        text-align: right;\n",
       "    }\n",
       "</style>\n",
       "<table border=\"1\" class=\"dataframe\">\n",
       "  <thead>\n",
       "    <tr style=\"text-align: right;\">\n",
       "      <th></th>\n",
       "      <th>customerID</th>\n",
       "      <th>gender</th>\n",
       "      <th>SeniorCitizen</th>\n",
       "      <th>Partner</th>\n",
       "      <th>Dependents</th>\n",
       "      <th>tenure</th>\n",
       "      <th>PhoneService</th>\n",
       "      <th>MultipleLines</th>\n",
       "      <th>InternetService</th>\n",
       "      <th>OnlineSecurity</th>\n",
       "      <th>...</th>\n",
       "      <th>DeviceProtection</th>\n",
       "      <th>TechSupport</th>\n",
       "      <th>StreamingTV</th>\n",
       "      <th>StreamingMovies</th>\n",
       "      <th>Contract</th>\n",
       "      <th>PaperlessBilling</th>\n",
       "      <th>PaymentMethod</th>\n",
       "      <th>MonthlyCharges</th>\n",
       "      <th>TotalCharges</th>\n",
       "      <th>Churn</th>\n",
       "    </tr>\n",
       "  </thead>\n",
       "  <tbody>\n",
       "    <tr>\n",
       "      <th>0</th>\n",
       "      <td>7590-VHVEG</td>\n",
       "      <td>Female</td>\n",
       "      <td>0</td>\n",
       "      <td>Yes</td>\n",
       "      <td>No</td>\n",
       "      <td>1</td>\n",
       "      <td>No</td>\n",
       "      <td>No phone service</td>\n",
       "      <td>DSL</td>\n",
       "      <td>No</td>\n",
       "      <td>...</td>\n",
       "      <td>No</td>\n",
       "      <td>No</td>\n",
       "      <td>No</td>\n",
       "      <td>No</td>\n",
       "      <td>Month-to-month</td>\n",
       "      <td>Yes</td>\n",
       "      <td>Electronic check</td>\n",
       "      <td>29.85</td>\n",
       "      <td>29.85</td>\n",
       "      <td>No</td>\n",
       "    </tr>\n",
       "    <tr>\n",
       "      <th>1</th>\n",
       "      <td>5575-GNVDE</td>\n",
       "      <td>Male</td>\n",
       "      <td>0</td>\n",
       "      <td>No</td>\n",
       "      <td>No</td>\n",
       "      <td>34</td>\n",
       "      <td>Yes</td>\n",
       "      <td>No</td>\n",
       "      <td>DSL</td>\n",
       "      <td>Yes</td>\n",
       "      <td>...</td>\n",
       "      <td>Yes</td>\n",
       "      <td>No</td>\n",
       "      <td>No</td>\n",
       "      <td>No</td>\n",
       "      <td>One year</td>\n",
       "      <td>No</td>\n",
       "      <td>Mailed check</td>\n",
       "      <td>56.95</td>\n",
       "      <td>1889.5</td>\n",
       "      <td>No</td>\n",
       "    </tr>\n",
       "    <tr>\n",
       "      <th>2</th>\n",
       "      <td>3668-QPYBK</td>\n",
       "      <td>Male</td>\n",
       "      <td>0</td>\n",
       "      <td>No</td>\n",
       "      <td>No</td>\n",
       "      <td>2</td>\n",
       "      <td>Yes</td>\n",
       "      <td>No</td>\n",
       "      <td>DSL</td>\n",
       "      <td>Yes</td>\n",
       "      <td>...</td>\n",
       "      <td>No</td>\n",
       "      <td>No</td>\n",
       "      <td>No</td>\n",
       "      <td>No</td>\n",
       "      <td>Month-to-month</td>\n",
       "      <td>Yes</td>\n",
       "      <td>Mailed check</td>\n",
       "      <td>53.85</td>\n",
       "      <td>108.15</td>\n",
       "      <td>Yes</td>\n",
       "    </tr>\n",
       "    <tr>\n",
       "      <th>3</th>\n",
       "      <td>7795-CFOCW</td>\n",
       "      <td>Male</td>\n",
       "      <td>0</td>\n",
       "      <td>No</td>\n",
       "      <td>No</td>\n",
       "      <td>45</td>\n",
       "      <td>No</td>\n",
       "      <td>No phone service</td>\n",
       "      <td>DSL</td>\n",
       "      <td>Yes</td>\n",
       "      <td>...</td>\n",
       "      <td>Yes</td>\n",
       "      <td>Yes</td>\n",
       "      <td>No</td>\n",
       "      <td>No</td>\n",
       "      <td>One year</td>\n",
       "      <td>No</td>\n",
       "      <td>Bank transfer (automatic)</td>\n",
       "      <td>42.30</td>\n",
       "      <td>1840.75</td>\n",
       "      <td>No</td>\n",
       "    </tr>\n",
       "    <tr>\n",
       "      <th>4</th>\n",
       "      <td>9237-HQITU</td>\n",
       "      <td>Female</td>\n",
       "      <td>0</td>\n",
       "      <td>No</td>\n",
       "      <td>No</td>\n",
       "      <td>2</td>\n",
       "      <td>Yes</td>\n",
       "      <td>No</td>\n",
       "      <td>Fiber optic</td>\n",
       "      <td>No</td>\n",
       "      <td>...</td>\n",
       "      <td>No</td>\n",
       "      <td>No</td>\n",
       "      <td>No</td>\n",
       "      <td>No</td>\n",
       "      <td>Month-to-month</td>\n",
       "      <td>Yes</td>\n",
       "      <td>Electronic check</td>\n",
       "      <td>70.70</td>\n",
       "      <td>151.65</td>\n",
       "      <td>Yes</td>\n",
       "    </tr>\n",
       "  </tbody>\n",
       "</table>\n",
       "<p>5 rows × 21 columns</p>\n",
       "</div>"
      ],
      "text/plain": [
       "   customerID  gender  SeniorCitizen Partner Dependents  tenure PhoneService  \\\n",
       "0  7590-VHVEG  Female              0     Yes         No       1           No   \n",
       "1  5575-GNVDE    Male              0      No         No      34          Yes   \n",
       "2  3668-QPYBK    Male              0      No         No       2          Yes   \n",
       "3  7795-CFOCW    Male              0      No         No      45           No   \n",
       "4  9237-HQITU  Female              0      No         No       2          Yes   \n",
       "\n",
       "      MultipleLines InternetService OnlineSecurity  ... DeviceProtection  \\\n",
       "0  No phone service             DSL             No  ...               No   \n",
       "1                No             DSL            Yes  ...              Yes   \n",
       "2                No             DSL            Yes  ...               No   \n",
       "3  No phone service             DSL            Yes  ...              Yes   \n",
       "4                No     Fiber optic             No  ...               No   \n",
       "\n",
       "  TechSupport StreamingTV StreamingMovies        Contract PaperlessBilling  \\\n",
       "0          No          No              No  Month-to-month              Yes   \n",
       "1          No          No              No        One year               No   \n",
       "2          No          No              No  Month-to-month              Yes   \n",
       "3         Yes          No              No        One year               No   \n",
       "4          No          No              No  Month-to-month              Yes   \n",
       "\n",
       "               PaymentMethod MonthlyCharges  TotalCharges Churn  \n",
       "0           Electronic check          29.85         29.85    No  \n",
       "1               Mailed check          56.95        1889.5    No  \n",
       "2               Mailed check          53.85        108.15   Yes  \n",
       "3  Bank transfer (automatic)          42.30       1840.75    No  \n",
       "4           Electronic check          70.70        151.65   Yes  \n",
       "\n",
       "[5 rows x 21 columns]"
      ]
     },
     "execution_count": 7,
     "metadata": {},
     "output_type": "execute_result"
    }
   ],
   "source": [
    "# Loading Dataset\n",
    "\n",
    "filepath = 'Downloads/telco.csv'\n",
    "data = pd.read_csv(filepath)\n",
    "data.head()"
   ]
  },
  {
   "cell_type": "markdown",
   "id": "dc43e964",
   "metadata": {},
   "source": [
    "## Data\n",
    "Data information is provided below:"
   ]
  },
  {
   "cell_type": "code",
   "execution_count": 8,
   "id": "68ad8e97",
   "metadata": {},
   "outputs": [
    {
     "name": "stdout",
     "output_type": "stream",
     "text": [
      "<class 'pandas.core.frame.DataFrame'>\n",
      "RangeIndex: 7043 entries, 0 to 7042\n",
      "Data columns (total 21 columns):\n",
      " #   Column            Non-Null Count  Dtype  \n",
      "---  ------            --------------  -----  \n",
      " 0   customerID        7043 non-null   object \n",
      " 1   gender            7043 non-null   object \n",
      " 2   SeniorCitizen     7043 non-null   int64  \n",
      " 3   Partner           7043 non-null   object \n",
      " 4   Dependents        7043 non-null   object \n",
      " 5   tenure            7043 non-null   int64  \n",
      " 6   PhoneService      7043 non-null   object \n",
      " 7   MultipleLines     7043 non-null   object \n",
      " 8   InternetService   7043 non-null   object \n",
      " 9   OnlineSecurity    7043 non-null   object \n",
      " 10  OnlineBackup      7043 non-null   object \n",
      " 11  DeviceProtection  7043 non-null   object \n",
      " 12  TechSupport       7043 non-null   object \n",
      " 13  StreamingTV       7043 non-null   object \n",
      " 14  StreamingMovies   7043 non-null   object \n",
      " 15  Contract          7043 non-null   object \n",
      " 16  PaperlessBilling  7043 non-null   object \n",
      " 17  PaymentMethod     7043 non-null   object \n",
      " 18  MonthlyCharges    7043 non-null   float64\n",
      " 19  TotalCharges      7043 non-null   object \n",
      " 20  Churn             7043 non-null   object \n",
      "dtypes: float64(1), int64(2), object(18)\n",
      "memory usage: 1.1+ MB\n"
     ]
    }
   ],
   "source": [
    "data.info()"
   ]
  },
  {
   "cell_type": "markdown",
   "id": "7c389247",
   "metadata": {},
   "source": [
    "## Data Analysis and Encoding"
   ]
  },
  {
   "cell_type": "code",
   "execution_count": 9,
   "id": "c6fe0a73",
   "metadata": {},
   "outputs": [],
   "source": [
    "# Changing 'TotalCharges' column dtype to float\n",
    "\n",
    "data.TotalCharges = data.TotalCharges.str.replace(' ','')\n",
    "data=data[pd.to_numeric(data['TotalCharges'],errors='coerce').notnull()]\n",
    "data['TotalCharges'] = data['TotalCharges'].astype(float)"
   ]
  },
  {
   "cell_type": "code",
   "execution_count": 10,
   "id": "e93679c0",
   "metadata": {},
   "outputs": [],
   "source": [
    "# Creating a copy of data\n",
    "\n",
    "df = data.copy()\n",
    "df.drop('customerID',axis=1, inplace=True)"
   ]
  },
  {
   "cell_type": "code",
   "execution_count": 11,
   "id": "8a602a06",
   "metadata": {},
   "outputs": [],
   "source": [
    "# Encoding\n",
    "\n",
    "le=LabelEncoder()\n",
    "df['gender'] = le.fit_transform(df['gender'])\n",
    "df['Partner'] = le.fit_transform(df['Partner'])\n",
    "df['Dependents'] = le.fit_transform(df['Dependents'])\n",
    "df['PhoneService'] = le.fit_transform(df['PhoneService'])\n",
    "df['MultipleLines'] = le.fit_transform(df['MultipleLines'])\n",
    "df['InternetService'] = le.fit_transform(df['InternetService'])\n",
    "df['OnlineSecurity'] = le.fit_transform(df['OnlineSecurity'])\n",
    "df['OnlineBackup'] = le.fit_transform(df['OnlineBackup'])\n",
    "df['DeviceProtection'] = le.fit_transform(df['DeviceProtection'])\n",
    "df['TechSupport'] = le.fit_transform(df['TechSupport'])\n",
    "df['StreamingTV'] = le.fit_transform(df['StreamingTV'])\n",
    "df['StreamingMovies'] = le.fit_transform(df['StreamingMovies'])\n",
    "df['Contract'] = le.fit_transform(df['Contract'])\n",
    "df['PaperlessBilling'] = le.fit_transform(df['PaperlessBilling'])\n",
    "df['PaymentMethod'] = le.fit_transform(df['PaymentMethod'])\n",
    "\n",
    "df['Churn'] = df['Churn'].replace({'No':0,'Yes':1})"
   ]
  },
  {
   "cell_type": "markdown",
   "id": "b1068226",
   "metadata": {},
   "source": [
    "## Splitting into train and test set along with Scaling"
   ]
  },
  {
   "cell_type": "code",
   "execution_count": 12,
   "id": "c04752f8",
   "metadata": {},
   "outputs": [],
   "source": [
    "X = df.drop('Churn', axis=1)\n",
    "y = df.Churn\n",
    "X_train, X_test, y_train, y_test = train_test_split(X, y, test_size=0.3, random_state=42)\n",
    "scaler = MinMaxScaler()\n",
    "scaler.fit(X_train)\n",
    "X_train = scaler.transform(X_train)\n",
    "X_test = scaler.transform(X_test)"
   ]
  },
  {
   "cell_type": "markdown",
   "id": "fd207ea1",
   "metadata": {},
   "source": [
    "## KMeans"
   ]
  },
  {
   "cell_type": "code",
   "execution_count": 13,
   "id": "56590a8e",
   "metadata": {},
   "outputs": [
    {
     "name": "stderr",
     "output_type": "stream",
     "text": [
      "C:\\Users\\AHC\\anaconda3\\lib\\site-packages\\sklearn\\cluster\\_kmeans.py:870: FutureWarning: The default value of `n_init` will change from 10 to 'auto' in 1.4. Set the value of `n_init` explicitly to suppress the warning\n",
      "  warnings.warn(\n"
     ]
    },
    {
     "name": "stdout",
     "output_type": "stream",
     "text": [
      "Accuracy Score:  0.6090047393364929\n"
     ]
    }
   ],
   "source": [
    "kmeans = KMeans(n_clusters=2)\n",
    "kmeans=kmeans.fit(X_train)\n",
    "kmeans_ypred = kmeans.predict(X_test)\n",
    "print('Accuracy Score: ',accuracy_score(y_test,kmeans_ypred))"
   ]
  },
  {
   "cell_type": "markdown",
   "id": "c12340ee",
   "metadata": {},
   "source": [
    "## Agglomerative Clustering"
   ]
  },
  {
   "cell_type": "code",
   "execution_count": 14,
   "id": "92d62c5d",
   "metadata": {},
   "outputs": [
    {
     "name": "stdout",
     "output_type": "stream",
     "text": [
      "Accuracy Score:  0.49146919431279623\n"
     ]
    }
   ],
   "source": [
    "agg = AgglomerativeClustering(n_clusters=2)\n",
    "#agg = agg.fit(X_train)\n",
    "agg_ypred = agg.fit_predict(X_test)\n",
    "print('Accuracy Score: ',accuracy_score(y_test,agg_ypred))"
   ]
  },
  {
   "cell_type": "markdown",
   "id": "385d912c",
   "metadata": {},
   "source": [
    "## DBSCAN"
   ]
  },
  {
   "cell_type": "code",
   "execution_count": 15,
   "id": "0a3eda08",
   "metadata": {},
   "outputs": [
    {
     "name": "stdout",
     "output_type": "stream",
     "text": [
      "Accuracy Score:  0.7341232227488151\n",
      "No. of clusters: 1\n"
     ]
    }
   ],
   "source": [
    "db = DBSCAN(eps=2,min_samples=10)\n",
    "db = db.fit(X_test)\n",
    "clusters = db.labels_\n",
    "print('Accuracy Score: ',accuracy_score(y_test,clusters))\n",
    "print('No. of clusters:',len(set(clusters)))"
   ]
  },
  {
   "cell_type": "markdown",
   "id": "903c086c",
   "metadata": {},
   "source": [
    "DBSCAN has only created one cluster"
   ]
  },
  {
   "cell_type": "code",
   "execution_count": 16,
   "id": "c0f82b6f",
   "metadata": {},
   "outputs": [
    {
     "name": "stdout",
     "output_type": "stream",
     "text": [
      "Accuracy Score:  0.04407582938388625\n"
     ]
    }
   ],
   "source": [
    "ms = MeanShift(bandwidth=1)\n",
    "ms.fit(X_train)\n",
    "ms_ypred = ms.predict(X_test)\n",
    "print('Accuracy Score: ',accuracy_score(y_test,ms_ypred))"
   ]
  },
  {
   "cell_type": "markdown",
   "id": "c32f8464",
   "metadata": {},
   "source": [
    "Mean Shift has failed to cluster properly."
   ]
  },
  {
   "cell_type": "markdown",
   "id": "4b6e08f9",
   "metadata": {},
   "source": [
    "As we know there can be only 2 clusters. So it is easy using KMeans and Agglomerative Clustering using cluster value of 2. \n",
    "Kmeans has higher accuracy as compared to Agglomerative Clustering but lets repeat these two methods again after dimention reduction."
   ]
  },
  {
   "cell_type": "markdown",
   "id": "dc67f99b",
   "metadata": {},
   "source": [
    "## Principal Component Analysis "
   ]
  },
  {
   "cell_type": "code",
   "execution_count": 17,
   "id": "3c376895",
   "metadata": {},
   "outputs": [],
   "source": [
    "pca = PCA(n_components = 10)\n",
    "X_train_pca = pca.fit_transform(X_train)\n",
    "X_test_pca = pca.fit_transform(X_test)"
   ]
  },
  {
   "cell_type": "markdown",
   "id": "17ccbaac",
   "metadata": {},
   "source": [
    "Applying KMeans with PCA"
   ]
  },
  {
   "cell_type": "code",
   "execution_count": 18,
   "id": "b40601fd",
   "metadata": {},
   "outputs": [
    {
     "name": "stderr",
     "output_type": "stream",
     "text": [
      "C:\\Users\\AHC\\anaconda3\\lib\\site-packages\\sklearn\\cluster\\_kmeans.py:870: FutureWarning: The default value of `n_init` will change from 10 to 'auto' in 1.4. Set the value of `n_init` explicitly to suppress the warning\n",
      "  warnings.warn(\n"
     ]
    },
    {
     "name": "stdout",
     "output_type": "stream",
     "text": [
      "Accuracy Score:  0.5819905213270142\n"
     ]
    }
   ],
   "source": [
    "kmeans = KMeans(n_clusters=2)\n",
    "kmeans=kmeans.fit(X_train_pca)\n",
    "kmeans_ypred = kmeans.predict(X_test_pca)\n",
    "print('Accuracy Score: ',accuracy_score(y_test,kmeans_ypred))"
   ]
  },
  {
   "cell_type": "markdown",
   "id": "3a5d7f1c",
   "metadata": {},
   "source": [
    "Now lets have a look at Agglomerative Clustering with PCA:"
   ]
  },
  {
   "cell_type": "code",
   "execution_count": 19,
   "id": "d97ab476",
   "metadata": {},
   "outputs": [
    {
     "name": "stdout",
     "output_type": "stream",
     "text": [
      "Accuracy Score:  0.5450236966824644\n"
     ]
    }
   ],
   "source": [
    "agg = AgglomerativeClustering(n_clusters=2)\n",
    "#agg = agg.fit(X_train)\n",
    "agg_ypred = agg.fit_predict(X_test_pca)\n",
    "print('Accuracy Score: ',accuracy_score(y_test,agg_ypred))"
   ]
  },
  {
   "cell_type": "markdown",
   "id": "9cf8cbb2",
   "metadata": {},
   "source": [
    "## KernelPCA"
   ]
  },
  {
   "cell_type": "code",
   "execution_count": 23,
   "id": "dbe6ac64",
   "metadata": {},
   "outputs": [],
   "source": [
    "kernel = KernelPCA(n_components=10,kernel='rbf',gamma=1.0)\n",
    "X_train_kernel = kernel.fit_transform(X_train)\n",
    "X_test_kernel = kernel.fit_transform(X_test)"
   ]
  },
  {
   "cell_type": "markdown",
   "id": "cfdc4ca5",
   "metadata": {},
   "source": [
    "Applying KMeans with Kernel PCA:"
   ]
  },
  {
   "cell_type": "code",
   "execution_count": 24,
   "id": "69e09e1e",
   "metadata": {},
   "outputs": [
    {
     "name": "stderr",
     "output_type": "stream",
     "text": [
      "C:\\Users\\AHC\\anaconda3\\lib\\site-packages\\sklearn\\cluster\\_kmeans.py:870: FutureWarning: The default value of `n_init` will change from 10 to 'auto' in 1.4. Set the value of `n_init` explicitly to suppress the warning\n",
      "  warnings.warn(\n"
     ]
    },
    {
     "name": "stdout",
     "output_type": "stream",
     "text": [
      "Accuracy Score:  0.6786729857819905\n"
     ]
    }
   ],
   "source": [
    "kmeans = KMeans(n_clusters=2)\n",
    "kmeans=kmeans.fit(X_train_kernel)\n",
    "kmeans_ypred = kmeans.predict(X_test_kernel)\n",
    "print('Accuracy Score: ',accuracy_score(y_test,kmeans_ypred))"
   ]
  },
  {
   "cell_type": "markdown",
   "id": "525281e0",
   "metadata": {},
   "source": [
    "Now lets see Agglomerative Clustering with KernelPCA:"
   ]
  },
  {
   "cell_type": "code",
   "execution_count": 25,
   "id": "488544c5",
   "metadata": {},
   "outputs": [
    {
     "name": "stdout",
     "output_type": "stream",
     "text": [
      "Accuracy Score:  0.6947867298578199\n"
     ]
    }
   ],
   "source": [
    "agg = AgglomerativeClustering(n_clusters=2)\n",
    "#agg = agg.fit(X_train)\n",
    "agg_ypred = agg.fit_predict(X_test_kernel)\n",
    "print('Accuracy Score: ',accuracy_score(y_test,agg_ypred))"
   ]
  },
  {
   "cell_type": "markdown",
   "id": "1734e722",
   "metadata": {},
   "source": [
    "## Findings"
   ]
  },
  {
   "cell_type": "markdown",
   "id": "a60f8d35",
   "metadata": {},
   "source": [
    "* KMeans and Agglomerative Clustering methods are most suited as we know the number of clusters\n",
    "* Without dimension reduction, KMeans gave an average accuracy of 60% where as Agglomerative CLustering had an accuracy of nearly 50%.\n",
    "* With Kernel PCA though, agglomerative CLustering showed an increase of 20% accuracy score which is fair"
   ]
  },
  {
   "cell_type": "markdown",
   "id": "ccf178cc",
   "metadata": {},
   "source": [
    "## Future Recommendations"
   ]
  },
  {
   "cell_type": "markdown",
   "id": "af3c65a1",
   "metadata": {},
   "source": [
    "Methods can be improved by different hyperparameters using GridSearch."
   ]
  },
  {
   "cell_type": "markdown",
   "id": "52bbf470",
   "metadata": {},
   "source": [
    "**** ****\n",
    "**Thank You!**"
   ]
  }
 ],
 "metadata": {
  "kernelspec": {
   "display_name": "Python 3 (ipykernel)",
   "language": "python",
   "name": "python3"
  },
  "language_info": {
   "codemirror_mode": {
    "name": "ipython",
    "version": 3
   },
   "file_extension": ".py",
   "mimetype": "text/x-python",
   "name": "python",
   "nbconvert_exporter": "python",
   "pygments_lexer": "ipython3",
   "version": "3.9.13"
  }
 },
 "nbformat": 4,
 "nbformat_minor": 5
}
